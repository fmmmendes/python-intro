{
 "cells": [
  {
   "cell_type": "markdown",
   "id": "d975492c",
   "metadata": {},
   "source": [
    "# Intro to Python and Pandas"
   ]
  },
  {
   "cell_type": "markdown",
   "id": "eec02a52",
   "metadata": {},
   "source": [
    "## Importing Packages"
   ]
  },
  {
   "cell_type": "code",
   "execution_count": 31,
   "id": "a2541a43-a4fc-4193-9530-1b77791c57ea",
   "metadata": {},
   "outputs": [],
   "source": [
    "import pandas as pd\n",
    "import matplotlib as mpl\n",
    "import matplotlib.pyplot as plt"
   ]
  },
  {
   "cell_type": "code",
   "execution_count": 45,
   "id": "6c73f999",
   "metadata": {},
   "outputs": [],
   "source": [
    "from modules import md_hello, md_difference"
   ]
  },
  {
   "cell_type": "markdown",
   "id": "650de7d2",
   "metadata": {},
   "source": [
    "## Data Types\n",
    "\n",
    "* Tuples\n",
    "* Lists\n",
    "* Dictionaries"
   ]
  },
  {
   "cell_type": "markdown",
   "id": "d0ea69de",
   "metadata": {},
   "source": [
    "### Tuples\n",
    "\n",
    "* tuples are immutable (only with workaround)\n",
    "* allow different data types inside the tupple\n",
    "* not allow removes (only with workaround by lists)\n",
    "* not allow ordening"
   ]
  },
  {
   "cell_type": "code",
   "execution_count": 32,
   "id": "f52f7904",
   "metadata": {},
   "outputs": [
    {
     "data": {
      "text/plain": [
       "tuple"
      ]
     },
     "execution_count": 32,
     "metadata": {},
     "output_type": "execute_result"
    }
   ],
   "source": [
    "tp = ()\n",
    "type(tp)"
   ]
  },
  {
   "cell_type": "code",
   "execution_count": 33,
   "id": "626f6ad2",
   "metadata": {},
   "outputs": [
    {
     "data": {
      "text/plain": [
       "('a',)"
      ]
     },
     "execution_count": 33,
     "metadata": {},
     "output_type": "execute_result"
    }
   ],
   "source": [
    "tp = tuple(\"a\")\n",
    "tp"
   ]
  },
  {
   "cell_type": "code",
   "execution_count": 34,
   "id": "c27e7a04",
   "metadata": {},
   "outputs": [
    {
     "data": {
      "text/plain": [
       "('a', 'b', 3)"
      ]
     },
     "execution_count": 34,
     "metadata": {},
     "output_type": "execute_result"
    }
   ],
   "source": [
    "tp = tp + tuple((\"b\",3))\n",
    "tp"
   ]
  },
  {
   "cell_type": "code",
   "execution_count": 35,
   "id": "de9e5499",
   "metadata": {},
   "outputs": [
    {
     "data": {
      "text/plain": [
       "('a', 3)"
      ]
     },
     "execution_count": 35,
     "metadata": {},
     "output_type": "execute_result"
    }
   ],
   "source": [
    "tp_lst = list(tp)\n",
    "tp_lst.remove('b')\n",
    "tp = tuple(tp_lst)\n",
    "tp"
   ]
  },
  {
   "cell_type": "markdown",
   "id": "046395ba",
   "metadata": {},
   "source": [
    "### Lists"
   ]
  },
  {
   "cell_type": "markdown",
   "id": "524f73e7",
   "metadata": {},
   "source": [
    "### Dictionaries"
   ]
  },
  {
   "cell_type": "markdown",
   "id": "e785e9bc",
   "metadata": {},
   "source": [
    "## Functions"
   ]
  },
  {
   "cell_type": "code",
   "execution_count": 36,
   "id": "cf6b112f",
   "metadata": {},
   "outputs": [
    {
     "name": "stdout",
     "output_type": "stream",
     "text": [
      "Hello from a function\n"
     ]
    }
   ],
   "source": [
    "def hello():\n",
    "    print(\"Hello from a function\") \n",
    "\n",
    "hello()"
   ]
  },
  {
   "cell_type": "code",
   "execution_count": 46,
   "id": "980a8086",
   "metadata": {},
   "outputs": [
    {
     "data": {
      "text/plain": [
       "3"
      ]
     },
     "execution_count": 46,
     "metadata": {},
     "output_type": "execute_result"
    }
   ],
   "source": [
    "def difference(a,b):\n",
    "    return a - b\n",
    "\n",
    "difference(5,2)"
   ]
  },
  {
   "cell_type": "code",
   "execution_count": 43,
   "id": "3b5ccee1",
   "metadata": {},
   "outputs": [
    {
     "name": "stdout",
     "output_type": "stream",
     "text": [
      "Hello from a function inside a module\n"
     ]
    }
   ],
   "source": [
    "md_hello()"
   ]
  },
  {
   "cell_type": "code",
   "execution_count": 49,
   "id": "c50484fa",
   "metadata": {},
   "outputs": [
    {
     "name": "stdout",
     "output_type": "stream",
     "text": [
      "md_difference is running\n"
     ]
    },
    {
     "data": {
      "text/plain": [
       "2"
      ]
     },
     "execution_count": 49,
     "metadata": {},
     "output_type": "execute_result"
    }
   ],
   "source": [
    "md_difference(6,4)"
   ]
  },
  {
   "cell_type": "markdown",
   "id": "1e6e9b96",
   "metadata": {},
   "source": [
    "## Pandas\n",
    "\n",
    "Read a csv file into a dataframe on pandas"
   ]
  },
  {
   "cell_type": "code",
   "execution_count": 8,
   "id": "47edca40-527e-4efb-84f1-07a3e4c1d9bc",
   "metadata": {},
   "outputs": [],
   "source": [
    "df = pd.read_csv('bitcoin_2011-1-2_2022-1-9.csv')"
   ]
  },
  {
   "cell_type": "markdown",
   "id": "7bb03cc4",
   "metadata": {},
   "source": [
    "Show the first results using the \"head\" method"
   ]
  },
  {
   "cell_type": "code",
   "execution_count": 9,
   "id": "49dc929d",
   "metadata": {},
   "outputs": [
    {
     "data": {
      "text/html": [
       "<div>\n",
       "<style scoped>\n",
       "    .dataframe tbody tr th:only-of-type {\n",
       "        vertical-align: middle;\n",
       "    }\n",
       "\n",
       "    .dataframe tbody tr th {\n",
       "        vertical-align: top;\n",
       "    }\n",
       "\n",
       "    .dataframe thead th {\n",
       "        text-align: right;\n",
       "    }\n",
       "</style>\n",
       "<table border=\"1\" class=\"dataframe\">\n",
       "  <thead>\n",
       "    <tr style=\"text-align: right;\">\n",
       "      <th></th>\n",
       "      <th>Date</th>\n",
       "      <th>Open</th>\n",
       "      <th>High</th>\n",
       "      <th>Low</th>\n",
       "      <th>Close</th>\n",
       "      <th>Volume</th>\n",
       "      <th>Market Cap</th>\n",
       "    </tr>\n",
       "  </thead>\n",
       "  <tbody>\n",
       "    <tr>\n",
       "      <th>0</th>\n",
       "      <td>Jan-08-2022</td>\n",
       "      <td>36564.243612</td>\n",
       "      <td>37229.038550</td>\n",
       "      <td>35771.261670</td>\n",
       "      <td>36748.872743</td>\n",
       "      <td>7.539408e+10</td>\n",
       "      <td>6.946371e+11</td>\n",
       "    </tr>\n",
       "    <tr>\n",
       "      <th>1</th>\n",
       "      <td>Jan-07-2022</td>\n",
       "      <td>37967.058111</td>\n",
       "      <td>37967.058111</td>\n",
       "      <td>36102.961485</td>\n",
       "      <td>36537.631462</td>\n",
       "      <td>7.764271e+10</td>\n",
       "      <td>6.995637e+11</td>\n",
       "    </tr>\n",
       "    <tr>\n",
       "      <th>2</th>\n",
       "      <td>Jan-06-2022</td>\n",
       "      <td>38201.660140</td>\n",
       "      <td>38491.911415</td>\n",
       "      <td>37491.009172</td>\n",
       "      <td>37951.276491</td>\n",
       "      <td>9.793463e+10</td>\n",
       "      <td>7.177319e+11</td>\n",
       "    </tr>\n",
       "    <tr>\n",
       "      <th>3</th>\n",
       "      <td>Jan-05-2022</td>\n",
       "      <td>40355.401583</td>\n",
       "      <td>41359.168838</td>\n",
       "      <td>37406.449745</td>\n",
       "      <td>38312.722931</td>\n",
       "      <td>9.606402e+10</td>\n",
       "      <td>7.644243e+11</td>\n",
       "    </tr>\n",
       "    <tr>\n",
       "      <th>4</th>\n",
       "      <td>Jan-04-2022</td>\n",
       "      <td>40849.626772</td>\n",
       "      <td>41801.873753</td>\n",
       "      <td>40227.324446</td>\n",
       "      <td>40385.241683</td>\n",
       "      <td>6.572451e+10</td>\n",
       "      <td>7.731503e+11</td>\n",
       "    </tr>\n",
       "  </tbody>\n",
       "</table>\n",
       "</div>"
      ],
      "text/plain": [
       "          Date          Open          High           Low         Close  \\\n",
       "0  Jan-08-2022  36564.243612  37229.038550  35771.261670  36748.872743   \n",
       "1  Jan-07-2022  37967.058111  37967.058111  36102.961485  36537.631462   \n",
       "2  Jan-06-2022  38201.660140  38491.911415  37491.009172  37951.276491   \n",
       "3  Jan-05-2022  40355.401583  41359.168838  37406.449745  38312.722931   \n",
       "4  Jan-04-2022  40849.626772  41801.873753  40227.324446  40385.241683   \n",
       "\n",
       "         Volume    Market Cap  \n",
       "0  7.539408e+10  6.946371e+11  \n",
       "1  7.764271e+10  6.995637e+11  \n",
       "2  9.793463e+10  7.177319e+11  \n",
       "3  9.606402e+10  7.644243e+11  \n",
       "4  6.572451e+10  7.731503e+11  "
      ]
     },
     "execution_count": 9,
     "metadata": {},
     "output_type": "execute_result"
    }
   ],
   "source": [
    "df.head()"
   ]
  },
  {
   "cell_type": "code",
   "execution_count": 10,
   "id": "7f7c64fe",
   "metadata": {},
   "outputs": [
    {
     "data": {
      "text/plain": [
       "Date           object\n",
       "Open          float64\n",
       "High          float64\n",
       "Low           float64\n",
       "Close         float64\n",
       "Volume        float64\n",
       "Market Cap    float64\n",
       "dtype: object"
      ]
     },
     "execution_count": 10,
     "metadata": {},
     "output_type": "execute_result"
    }
   ],
   "source": [
    "df.dtypes"
   ]
  },
  {
   "cell_type": "markdown",
   "id": "b1e99f64",
   "metadata": {},
   "source": [
    "### Cleaning approaches"
   ]
  },
  {
   "cell_type": "markdown",
   "id": "fe196b4d",
   "metadata": {},
   "source": [
    "Normalize column names to lower case, replacing spaces by underscore character"
   ]
  },
  {
   "cell_type": "code",
   "execution_count": 11,
   "id": "48de5be7",
   "metadata": {},
   "outputs": [
    {
     "data": {
      "text/plain": [
       "Index(['date', 'open', 'high', 'low', 'close', 'volume', 'market cap'], dtype='object')"
      ]
     },
     "execution_count": 11,
     "metadata": {},
     "output_type": "execute_result"
    }
   ],
   "source": [
    "df.columns = df.columns.str.lower()\n",
    "df.columns"
   ]
  },
  {
   "cell_type": "code",
   "execution_count": 12,
   "id": "4405c759",
   "metadata": {},
   "outputs": [
    {
     "data": {
      "text/plain": [
       "Index(['date', 'open', 'high', 'low', 'close', 'volume', 'market_cap'], dtype='object')"
      ]
     },
     "execution_count": 12,
     "metadata": {},
     "output_type": "execute_result"
    }
   ],
   "source": [
    "df.columns = df.columns.str.replace(\" \",\"_\")\n",
    "df.columns"
   ]
  },
  {
   "cell_type": "markdown",
   "id": "6c475cbe",
   "metadata": {},
   "source": [
    "Convert the date format as YYYY-MM-DD"
   ]
  },
  {
   "cell_type": "code",
   "execution_count": 13,
   "id": "05d5f300",
   "metadata": {},
   "outputs": [
    {
     "data": {
      "text/html": [
       "<div>\n",
       "<style scoped>\n",
       "    .dataframe tbody tr th:only-of-type {\n",
       "        vertical-align: middle;\n",
       "    }\n",
       "\n",
       "    .dataframe tbody tr th {\n",
       "        vertical-align: top;\n",
       "    }\n",
       "\n",
       "    .dataframe thead th {\n",
       "        text-align: right;\n",
       "    }\n",
       "</style>\n",
       "<table border=\"1\" class=\"dataframe\">\n",
       "  <thead>\n",
       "    <tr style=\"text-align: right;\">\n",
       "      <th></th>\n",
       "      <th>date</th>\n",
       "      <th>open</th>\n",
       "      <th>high</th>\n",
       "      <th>low</th>\n",
       "      <th>close</th>\n",
       "      <th>volume</th>\n",
       "      <th>market_cap</th>\n",
       "      <th>date_formated</th>\n",
       "    </tr>\n",
       "  </thead>\n",
       "  <tbody>\n",
       "    <tr>\n",
       "      <th>0</th>\n",
       "      <td>Jan-08-2022</td>\n",
       "      <td>36564.243612</td>\n",
       "      <td>37229.038550</td>\n",
       "      <td>35771.261670</td>\n",
       "      <td>36748.872743</td>\n",
       "      <td>7.539408e+10</td>\n",
       "      <td>6.946371e+11</td>\n",
       "      <td>2022-01-08</td>\n",
       "    </tr>\n",
       "    <tr>\n",
       "      <th>1</th>\n",
       "      <td>Jan-07-2022</td>\n",
       "      <td>37967.058111</td>\n",
       "      <td>37967.058111</td>\n",
       "      <td>36102.961485</td>\n",
       "      <td>36537.631462</td>\n",
       "      <td>7.764271e+10</td>\n",
       "      <td>6.995637e+11</td>\n",
       "      <td>2022-01-07</td>\n",
       "    </tr>\n",
       "    <tr>\n",
       "      <th>2</th>\n",
       "      <td>Jan-06-2022</td>\n",
       "      <td>38201.660140</td>\n",
       "      <td>38491.911415</td>\n",
       "      <td>37491.009172</td>\n",
       "      <td>37951.276491</td>\n",
       "      <td>9.793463e+10</td>\n",
       "      <td>7.177319e+11</td>\n",
       "      <td>2022-01-06</td>\n",
       "    </tr>\n",
       "    <tr>\n",
       "      <th>3</th>\n",
       "      <td>Jan-05-2022</td>\n",
       "      <td>40355.401583</td>\n",
       "      <td>41359.168838</td>\n",
       "      <td>37406.449745</td>\n",
       "      <td>38312.722931</td>\n",
       "      <td>9.606402e+10</td>\n",
       "      <td>7.644243e+11</td>\n",
       "      <td>2022-01-05</td>\n",
       "    </tr>\n",
       "    <tr>\n",
       "      <th>4</th>\n",
       "      <td>Jan-04-2022</td>\n",
       "      <td>40849.626772</td>\n",
       "      <td>41801.873753</td>\n",
       "      <td>40227.324446</td>\n",
       "      <td>40385.241683</td>\n",
       "      <td>6.572451e+10</td>\n",
       "      <td>7.731503e+11</td>\n",
       "      <td>2022-01-04</td>\n",
       "    </tr>\n",
       "  </tbody>\n",
       "</table>\n",
       "</div>"
      ],
      "text/plain": [
       "          date          open          high           low         close  \\\n",
       "0  Jan-08-2022  36564.243612  37229.038550  35771.261670  36748.872743   \n",
       "1  Jan-07-2022  37967.058111  37967.058111  36102.961485  36537.631462   \n",
       "2  Jan-06-2022  38201.660140  38491.911415  37491.009172  37951.276491   \n",
       "3  Jan-05-2022  40355.401583  41359.168838  37406.449745  38312.722931   \n",
       "4  Jan-04-2022  40849.626772  41801.873753  40227.324446  40385.241683   \n",
       "\n",
       "         volume    market_cap date_formated  \n",
       "0  7.539408e+10  6.946371e+11    2022-01-08  \n",
       "1  7.764271e+10  6.995637e+11    2022-01-07  \n",
       "2  9.793463e+10  7.177319e+11    2022-01-06  \n",
       "3  9.606402e+10  7.644243e+11    2022-01-05  \n",
       "4  6.572451e+10  7.731503e+11    2022-01-04  "
      ]
     },
     "execution_count": 13,
     "metadata": {},
     "output_type": "execute_result"
    }
   ],
   "source": [
    "df['date_formated'] = pd.to_datetime(df.date, infer_datetime_format=True)\n",
    "df.head()"
   ]
  },
  {
   "cell_type": "code",
   "execution_count": 52,
   "id": "a76a8325",
   "metadata": {},
   "outputs": [
    {
     "data": {
      "text/plain": [
       "0    1457.776880\n",
       "1    1864.096626\n",
       "2    1000.902243\n",
       "3    3952.719094\n",
       "4    1574.549307\n",
       "dtype: float64"
      ]
     },
     "execution_count": 52,
     "metadata": {},
     "output_type": "execute_result"
    }
   ],
   "source": [
    "res = difference(df.high, df.low)\n",
    "res.head()"
   ]
  },
  {
   "cell_type": "code",
   "execution_count": 53,
   "id": "c32f2454",
   "metadata": {},
   "outputs": [
    {
     "data": {
      "text/plain": [
       "1457.7768800240083"
      ]
     },
     "execution_count": 53,
     "metadata": {},
     "output_type": "execute_result"
    }
   ],
   "source": [
    "res = difference(df.high[0], df.low[0])\n",
    "res\n"
   ]
  },
  {
   "cell_type": "code",
   "execution_count": 54,
   "id": "6dcd2d85",
   "metadata": {},
   "outputs": [
    {
     "data": {
      "image/png": "[encoded data removed]",
      "text/plain": [
       "<Figure size 432x288 with 1 Axes>"
      ]
     },
     "metadata": {
      "needs_background": "light"
     },
     "output_type": "display_data"
    }
   ],
   "source": [
    "fig, ax = plt.subplots()\n",
    "\n",
    "line, = ax.plot(df.date,df.close,label = 'BitCoin Close Price')\n",
    "\n",
    "ax.legend()\n",
    "plt.show()"
   ]
  },
  {
   "cell_type": "code",
   "execution_count": 17,
   "id": "22dbdba0",
   "metadata": {},
   "outputs": [
    {
     "data": {
      "image/png": "[encoded data removed]",
      "text/plain": [
       "<Figure size 432x288 with 1 Axes>"
      ]
     },
     "metadata": {
      "needs_background": "light"
     },
     "output_type": "display_data"
    }
   ],
   "source": [
    "fig, ax = plt.subplots()\n",
    "\n",
    "line, = ax.plot(df['date_formated'], df['close'], label='BitCoin Close Price')\n",
    "\n",
    "ax.legend()\n",
    "plt.show()"
   ]
  }
 ],
 "metadata": {
  "kernelspec": {
   "display_name": "Python 3 (ipykernel)",
   "language": "python",
   "name": "python3"
  },
  "language_info": {
   "codemirror_mode": {
    "name": "ipython",
    "version": 3
   },
   "file_extension": ".py",
   "mimetype": "text/x-python",
   "name": "python",
   "nbconvert_exporter": "python",
   "pygments_lexer": "ipython3",
   "version": "3.9.9"
  }
 },
 "nbformat": 4,
 "nbformat_minor": 5
}
