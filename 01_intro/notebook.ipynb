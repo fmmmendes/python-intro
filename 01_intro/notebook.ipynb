{
 "cells": [
  {
   "cell_type": "markdown",
   "id": "d975492c",
   "metadata": {},
   "source": [
    "# Intro to Python and Pandas"
   ]
  },
  {
   "cell_type": "markdown",
   "id": "eec02a52",
   "metadata": {},
   "source": [
    "## Importing Packages"
   ]
  },
  {
   "cell_type": "code",
   "execution_count": null,
   "id": "a2541a43-a4fc-4193-9530-1b77791c57ea",
   "metadata": {},
   "outputs": [],
   "source": [
    "import pandas as pd\n",
    "import matplotlib as mpl\n",
    "import matplotlib.pyplot as plt\n",
    "import json"
   ]
  },
  {
   "cell_type": "code",
   "execution_count": null,
   "id": "6c73f999",
   "metadata": {},
   "outputs": [],
   "source": [
    "from modules import md_hello, md_difference"
   ]
  },
  {
   "cell_type": "markdown",
   "id": "650de7d2",
   "metadata": {},
   "source": [
    "## Data Types\n",
    "\n",
    "* Tuples\n",
    "* Lists\n",
    "* Dictionaries"
   ]
  },
  {
   "cell_type": "markdown",
   "id": "d0ea69de",
   "metadata": {},
   "source": [
    "### Tuples\n",
    "\n",
    "* tuples are immutable (only with workaround)\n",
    "* allow different data types inside the tupple\n",
    "* not allow removes (only with workaround by lists)\n",
    "* not allow ordening"
   ]
  },
  {
   "cell_type": "code",
   "execution_count": null,
   "id": "f52f7904",
   "metadata": {},
   "outputs": [],
   "source": [
    "tp = ()\n",
    "type(tp)"
   ]
  },
  {
   "cell_type": "code",
   "execution_count": null,
   "id": "626f6ad2",
   "metadata": {},
   "outputs": [],
   "source": [
    "tp = tuple(\"a\")\n",
    "tp"
   ]
  },
  {
   "cell_type": "code",
   "execution_count": null,
   "id": "c27e7a04",
   "metadata": {},
   "outputs": [],
   "source": [
    "tp = tp + tuple((\"b\",3))\n",
    "tp"
   ]
  },
  {
   "cell_type": "code",
   "execution_count": null,
   "id": "de9e5499",
   "metadata": {},
   "outputs": [],
   "source": [
    "tp_lst = list(tp)\n",
    "tp_lst.remove('b')\n",
    "tp = tuple(tp_lst)\n",
    "tp"
   ]
  },
  {
   "cell_type": "markdown",
   "id": "046395ba",
   "metadata": {},
   "source": [
    "### Lists"
   ]
  },
  {
   "cell_type": "markdown",
   "id": "524f73e7",
   "metadata": {},
   "source": [
    "### Dictionaries"
   ]
  },
  {
   "cell_type": "markdown",
   "id": "4ec7ea80-cf1d-413d-8dae-bcdd8e54e840",
   "metadata": {},
   "source": [
    "* Serialization (Dictionary to JSON file)\n",
    "* Deserialization (JSON file to Dictionary)"
   ]
  },
  {
   "cell_type": "code",
   "execution_count": null,
   "id": "88b6e834-d4c2-4341-9917-81f6e90137db",
   "metadata": {},
   "outputs": [],
   "source": [
    "team = {\n",
    "    '1':{\n",
    "        'name':'John',\n",
    "        'age' : 43,\n",
    "        'is_marriage': True\n",
    "    },\n",
    "    '2':{\n",
    "        'name':'Anna',\n",
    "        'age' : 39,\n",
    "        'is_marriage': False\n",
    "    }\n",
    "}"
   ]
  },
  {
   "cell_type": "code",
   "execution_count": null,
   "id": "c12bbac2-e60f-4102-b15a-573c9dfdf06e",
   "metadata": {},
   "outputs": [],
   "source": [
    "team"
   ]
  },
  {
   "cell_type": "code",
   "execution_count": null,
   "id": "ad7324d4-0c5e-4fd6-899f-a49ec9110533",
   "metadata": {},
   "outputs": [],
   "source": [
    "team.keys()"
   ]
  },
  {
   "cell_type": "code",
   "execution_count": null,
   "id": "e4f64082-42ed-4611-a74c-2cf1d66d4610",
   "metadata": {},
   "outputs": [],
   "source": [
    "team.values()"
   ]
  },
  {
   "cell_type": "code",
   "execution_count": null,
   "id": "aa4c87ee-71ab-45e3-b247-d270dacb9a54",
   "metadata": {},
   "outputs": [],
   "source": [
    "team.items()"
   ]
  },
  {
   "cell_type": "code",
   "execution_count": null,
   "id": "1cb1e364-c671-488e-9e6c-97afbde77c2c",
   "metadata": {},
   "outputs": [],
   "source": [
    "team['id_1']['name']"
   ]
  },
  {
   "cell_type": "code",
   "execution_count": null,
   "id": "3b688dae-1813-4652-86cd-b6a99f07e8ab",
   "metadata": {},
   "outputs": [],
   "source": [
    "team.get('id_1').get('name')"
   ]
  },
  {
   "cell_type": "code",
   "execution_count": null,
   "id": "74979020-f919-4c65-b5a5-b732acc0f1d2",
   "metadata": {},
   "outputs": [],
   "source": [
    "with open( \"team.json\" , \"w\" ) as write:\n",
    "    json.dump( team , write)"
   ]
  },
  {
   "cell_type": "markdown",
   "id": "2b3c5b6c-c020-49e6-a261-9a07d482d672",
   "metadata": {},
   "source": [
    "Load a JSON file"
   ]
  },
  {
   "cell_type": "code",
   "execution_count": null,
   "id": "1a71b608-dc92-4f0b-a30d-dd257ce86777",
   "metadata": {},
   "outputs": [],
   "source": [
    "with open( \"team.json\" , ) as read:\n",
    "    team_loaded = json.load(read)"
   ]
  },
  {
   "cell_type": "code",
   "execution_count": null,
   "id": "2bbcc69e-f225-481a-aad2-aaaab44f6677",
   "metadata": {},
   "outputs": [],
   "source": [
    "team_loaded"
   ]
  },
  {
   "cell_type": "markdown",
   "id": "e785e9bc",
   "metadata": {},
   "source": [
    "## Functions"
   ]
  },
  {
   "cell_type": "code",
   "execution_count": null,
   "id": "cf6b112f",
   "metadata": {},
   "outputs": [],
   "source": [
    "def hello():\n",
    "    print(\"Hello from a function\") \n",
    "\n",
    "hello()"
   ]
  },
  {
   "cell_type": "code",
   "execution_count": null,
   "id": "980a8086",
   "metadata": {},
   "outputs": [],
   "source": [
    "def difference(a,b):\n",
    "    return a - b\n",
    "\n",
    "difference(5,2)"
   ]
  },
  {
   "cell_type": "code",
   "execution_count": null,
   "id": "3b5ccee1",
   "metadata": {},
   "outputs": [],
   "source": [
    "md_hello()"
   ]
  },
  {
   "cell_type": "code",
   "execution_count": null,
   "id": "c50484fa",
   "metadata": {},
   "outputs": [],
   "source": [
    "md_difference(6,4)"
   ]
  },
  {
   "cell_type": "markdown",
   "id": "1e6e9b96",
   "metadata": {},
   "source": [
    "## Pandas\n",
    "\n",
    "Read a csv file into a dataframe on pandas"
   ]
  },
  {
   "cell_type": "code",
   "execution_count": null,
   "id": "47edca40-527e-4efb-84f1-07a3e4c1d9bc",
   "metadata": {},
   "outputs": [],
   "source": [
    "df = pd.read_csv('./data/bitcoin_2011-1-2_2022-1-9.csv')"
   ]
  },
  {
   "cell_type": "markdown",
   "id": "7bb03cc4",
   "metadata": {},
   "source": [
    "Show the first results using the \"head\" method"
   ]
  },
  {
   "cell_type": "code",
   "execution_count": null,
   "id": "49dc929d",
   "metadata": {},
   "outputs": [],
   "source": [
    "df.head()"
   ]
  },
  {
   "cell_type": "code",
   "execution_count": null,
   "id": "7f7c64fe",
   "metadata": {},
   "outputs": [],
   "source": [
    "df.dtypes"
   ]
  },
  {
   "cell_type": "markdown",
   "id": "b1e99f64",
   "metadata": {},
   "source": [
    "### Cleaning approaches"
   ]
  },
  {
   "cell_type": "markdown",
   "id": "fe196b4d",
   "metadata": {},
   "source": [
    "Normalize column names to lower case, replacing spaces by underscore character"
   ]
  },
  {
   "cell_type": "code",
   "execution_count": null,
   "id": "48de5be7",
   "metadata": {},
   "outputs": [],
   "source": [
    "df.columns = df.columns.str.lower()\n",
    "df.columns"
   ]
  },
  {
   "cell_type": "code",
   "execution_count": null,
   "id": "4405c759",
   "metadata": {},
   "outputs": [],
   "source": [
    "df.columns = df.columns.str.replace(\" \",\"_\")\n",
    "df.columns"
   ]
  },
  {
   "cell_type": "markdown",
   "id": "6c475cbe",
   "metadata": {},
   "source": [
    "Convert the date format as YYYY-MM-DD"
   ]
  },
  {
   "cell_type": "code",
   "execution_count": null,
   "id": "05d5f300",
   "metadata": {},
   "outputs": [],
   "source": [
    "df['date_formated'] = pd.to_datetime(df.date, infer_datetime_format=True)\n",
    "df.head()"
   ]
  },
  {
   "cell_type": "code",
   "execution_count": null,
   "id": "a76a8325",
   "metadata": {},
   "outputs": [],
   "source": [
    "res = difference(df.high, df.low)\n",
    "res.head()"
   ]
  },
  {
   "cell_type": "code",
   "execution_count": null,
   "id": "c32f2454",
   "metadata": {},
   "outputs": [],
   "source": [
    "res = difference(df.high[0], df.low[0])\n",
    "res\n"
   ]
  },
  {
   "cell_type": "code",
   "execution_count": null,
   "id": "6dcd2d85",
   "metadata": {},
   "outputs": [],
   "source": [
    "fig, ax = plt.subplots()\n",
    "\n",
    "line, = ax.plot(df.date,df.close,label = 'BitCoin Close Price')\n",
    "\n",
    "ax.legend()\n",
    "plt.show()"
   ]
  },
  {
   "cell_type": "code",
   "execution_count": null,
   "id": "22dbdba0",
   "metadata": {},
   "outputs": [],
   "source": [
    "fig, ax = plt.subplots()\n",
    "\n",
    "line, = ax.plot(df['date_formated'], df['close'], label='BitCoin Close Price')\n",
    "\n",
    "ax.legend()\n",
    "plt.show()"
   ]
  }
 ],
 "metadata": {
  "kernelspec": {
   "display_name": "Python 3 (ipykernel)",
   "language": "python",
   "name": "python3"
  },
  "language_info": {
   "codemirror_mode": {
    "name": "ipython",
    "version": 3
   },
   "file_extension": ".py",
   "mimetype": "text/x-python",
   "name": "python",
   "nbconvert_exporter": "python",
   "pygments_lexer": "ipython3",
   "version": "3.9.9"
  }
 },
 "nbformat": 4,
 "nbformat_minor": 5
}
